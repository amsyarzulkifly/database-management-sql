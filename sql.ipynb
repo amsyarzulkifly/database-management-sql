{
 "cells": [
  {
   "cell_type": "markdown",
   "id": "0b5fa1d6",
   "metadata": {},
   "source": [
    "# .#"
   ]
  },
  {
   "cell_type": "code",
   "execution_count": 18,
   "id": "9c2e854c",
   "metadata": {},
   "outputs": [],
   "source": [
    "import sqlite3\n",
    "\n",
    "# Create in-memory database (won't save on disk)\n",
    "conn = sqlite3.connect(\":memory:\")  \n",
    "cursor = conn.cursor()\n"
   ]
  },
  {
   "cell_type": "code",
   "execution_count": 19,
   "id": "86180808",
   "metadata": {},
   "outputs": [
    {
     "data": {
      "text/plain": [
       "<sqlite3.Cursor at 0x1b743865940>"
      ]
     },
     "execution_count": 19,
     "metadata": {},
     "output_type": "execute_result"
    }
   ],
   "source": [
    "cursor.execute(\"\"\"\n",
    "CREATE TABLE Customers (\n",
    "    CustomerID INTEGER PRIMARY KEY AUTOINCREMENT,\n",
    "    Name TEXT,\n",
    "    Age INTEGER,\n",
    "    City TEXT\n",
    ")\n",
    "\"\"\")"
   ]
  },
  {
   "cell_type": "code",
   "execution_count": 20,
   "id": "bd8037a6",
   "metadata": {},
   "outputs": [
    {
     "data": {
      "text/plain": [
       "<sqlite3.Cursor at 0x1b743865940>"
      ]
     },
     "execution_count": 20,
     "metadata": {},
     "output_type": "execute_result"
    }
   ],
   "source": [
    "cursor.executemany(\"\"\"\n",
    "INSERT INTO Customers (Name, Age, City) VALUES (?, ?, ?)\n",
    "\"\"\", [\n",
    "    ('Ali', 30, 'Kuala Lumpur'),\n",
    "    ('Mei Ling', 25, 'Penang'),\n",
    "    ('Raj', 28, 'Johor Bahru'),\n",
    "])\n"
   ]
  },
  {
   "cell_type": "code",
   "execution_count": 21,
   "id": "97ff5e0f",
   "metadata": {},
   "outputs": [
    {
     "name": "stdout",
     "output_type": "stream",
     "text": [
      "(1, 'Ali', 30, 'Kuala Lumpur')\n",
      "(2, 'Mei Ling', 25, 'Penang')\n",
      "(3, 'Raj', 28, 'Johor Bahru')\n"
     ]
    }
   ],
   "source": [
    "cursor.execute(\"SELECT * FROM Customers\")\n",
    "rows = cursor.fetchall()\n",
    "\n",
    "for row in rows:\n",
    "    print(row)\n"
   ]
  },
  {
   "cell_type": "code",
   "execution_count": 22,
   "id": "b2d23c95",
   "metadata": {},
   "outputs": [
    {
     "data": {
      "text/plain": [
       "[('Ali', 'Kuala Lumpur'), ('Mei Ling', 'Penang'), ('Raj', 'Johor Bahru')]"
      ]
     },
     "execution_count": 22,
     "metadata": {},
     "output_type": "execute_result"
    }
   ],
   "source": [
    "# 1. See only names and cities\n",
    "cursor.execute(\"SELECT Name, City FROM Customers\")\n",
    "cursor.fetchall()\n"
   ]
  },
  {
   "cell_type": "code",
   "execution_count": 23,
   "id": "c2b1da92",
   "metadata": {},
   "outputs": [
    {
     "data": {
      "text/plain": [
       "[(2, 'Mei Ling', 25, 'Penang')]"
      ]
     },
     "execution_count": 23,
     "metadata": {},
     "output_type": "execute_result"
    }
   ],
   "source": [
    "# 2. Filter by City\n",
    "cursor.execute(\"SELECT * FROM Customers WHERE City = 'Penang'\")\n",
    "cursor.fetchall()"
   ]
  },
  {
   "cell_type": "code",
   "execution_count": 24,
   "id": "e30b0d2c",
   "metadata": {},
   "outputs": [
    {
     "data": {
      "text/plain": [
       "[(1, 'Ali', 30, 'Kuala Lumpur'),\n",
       " (2, 'Mei Ling', 25, 'Penang'),\n",
       " (3, 'Raj', 28, 'Johor Bahru'),\n",
       " (4, 'Sarah', 32, 'Melaka')]"
      ]
     },
     "execution_count": 24,
     "metadata": {},
     "output_type": "execute_result"
    }
   ],
   "source": [
    "# 3. Add a new customer\n",
    "cursor.execute(\"INSERT INTO Customers (Name, Age, City) VALUES (?, ?, ?)\", ('Sarah', 32, 'Melaka'))\n",
    "conn.commit()\n",
    "\n",
    "# 4. See updated table\n",
    "cursor.execute(\"SELECT * FROM Customers\")\n",
    "cursor.fetchall()"
   ]
  },
  {
   "cell_type": "code",
   "execution_count": 27,
   "id": "14718e90",
   "metadata": {},
   "outputs": [
    {
     "name": "stdout",
     "output_type": "stream",
     "text": [
      "(1, 'Ali', 30, 'Kuala Lumpur')\n",
      "(2, 'Mei Ling', 25, 'Penang')\n",
      "(3, 'Raj', 28, 'Johor Bahru')\n"
     ]
    }
   ],
   "source": [
    "import sqlite3\n",
    "\n",
    "# Connect to a new or existing database file\n",
    "conn = sqlite3.connect(\"customers.db\")\n",
    "cursor = conn.cursor()\n",
    "\n",
    "# Load and execute the SQL script\n",
    "with open(\"setup_customers.sql\", \"r\") as f:\n",
    "    sql_script = f.read()\n",
    "\n",
    "cursor.executescript(sql_script)\n",
    "conn.commit()\n",
    "\n",
    "# Test: See the data\n",
    "cursor.execute(\"SELECT * FROM Customers\")\n",
    "rows = cursor.fetchall()\n",
    "\n",
    "for row in rows:\n",
    "    print(row)\n"
   ]
  }
 ],
 "metadata": {
  "kernelspec": {
   "display_name": "Python 3",
   "language": "python",
   "name": "python3"
  },
  "language_info": {
   "codemirror_mode": {
    "name": "ipython",
    "version": 3
   },
   "file_extension": ".py",
   "mimetype": "text/x-python",
   "name": "python",
   "nbconvert_exporter": "python",
   "pygments_lexer": "ipython3",
   "version": "3.13.5"
  }
 },
 "nbformat": 4,
 "nbformat_minor": 5
}
