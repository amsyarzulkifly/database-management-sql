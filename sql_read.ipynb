{
 "cells": [
  {
   "cell_type": "markdown",
   "id": "6b75bede",
   "metadata": {},
   "source": [
    "# Load SQL file in Python"
   ]
  },
  {
   "cell_type": "markdown",
   "id": "9a0a51d5",
   "metadata": {},
   "source": [
    "# # Customers"
   ]
  },
  {
   "cell_type": "code",
   "execution_count": 1,
   "id": "34695763",
   "metadata": {},
   "outputs": [
    {
     "name": "stdout",
     "output_type": "stream",
     "text": [
      "(1, 'Ali', 30, 'Kuala Lumpur')\n",
      "(2, 'Mei Ling', 25, 'Penang')\n",
      "(3, 'Raj', 28, 'Johor Bahru')\n"
     ]
    }
   ],
   "source": [
    "import sqlite3\n",
    "\n",
    "# Connect to a new or existing database file\n",
    "conn = sqlite3.connect(\"customers.db\")\n",
    "cursor = conn.cursor()\n",
    "\n",
    "# Load and execute the SQL script\n",
    "with open(\"setup_customers.sql\", \"r\") as f:\n",
    "    sql_script = f.read()\n",
    "\n",
    "cursor.executescript(sql_script)\n",
    "conn.commit()\n",
    "\n",
    "# Test: See the data\n",
    "cursor.execute(\"SELECT * FROM Customers\")\n",
    "rows = cursor.fetchall()\n",
    "\n",
    "for row in rows:\n",
    "    print(row)"
   ]
  },
  {
   "cell_type": "markdown",
   "id": "3b1c9829",
   "metadata": {},
   "source": [
    "# # Products"
   ]
  },
  {
   "cell_type": "code",
   "execution_count": 4,
   "id": "5d0ee2ca",
   "metadata": {},
   "outputs": [
    {
     "name": "stdout",
     "output_type": "stream",
     "text": [
      "(1, 'Laptop', 'Electronics', 3200.0, 1)\n",
      "(2, 'Smartphone', 'Electronics', 2100.5, 1)\n",
      "(3, 'Office Chair', 'Furniture', 450.0, 0)\n",
      "(4, 'Desk Lamp', 'Furniture', 79.9, 1)\n"
     ]
    }
   ],
   "source": [
    "import sqlite3\n",
    "\n",
    "# Connect to your database\n",
    "conn = sqlite3.connect(\"products.db\")\n",
    "cursor = conn.cursor()\n",
    "\n",
    "# Run the SQL script\n",
    "with open(\"setup_products.sql\", \"r\") as f:\n",
    "    sql = f.read()\n",
    "cursor.executescript(sql)\n",
    "conn.commit()\n",
    "\n",
    "# Test: View products\n",
    "cursor.execute(\"SELECT * FROM Products\")\n",
    "for row in cursor.fetchall():\n",
    "    print(row)"
   ]
  }
 ],
 "metadata": {
  "kernelspec": {
   "display_name": "Python 3",
   "language": "python",
   "name": "python3"
  },
  "language_info": {
   "codemirror_mode": {
    "name": "ipython",
    "version": 3
   },
   "file_extension": ".py",
   "mimetype": "text/x-python",
   "name": "python",
   "nbconvert_exporter": "python",
   "pygments_lexer": "ipython3",
   "version": "3.13.5"
  }
 },
 "nbformat": 4,
 "nbformat_minor": 5
}
